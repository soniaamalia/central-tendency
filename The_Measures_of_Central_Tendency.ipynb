{
  "nbformat": 4,
  "nbformat_minor": 0,
  "metadata": {
    "colab": {
      "provenance": []
    },
    "kernelspec": {
      "name": "python3",
      "display_name": "Python 3"
    },
    "language_info": {
      "name": "python"
    }
  },
  "cells": [
    {
      "cell_type": "markdown",
      "source": [
        "MEAN\n",
        "\n",
        "The average value of all the values in a dataset.\n",
        "\n",
        "To calculate the mean value of a dataset, find the sum of all values then divide by the total number of values."
      ],
      "metadata": {
        "id": "k8OltnVfoBEb"
      }
    },
    {
      "cell_type": "code",
      "execution_count": 1,
      "metadata": {
        "colab": {
          "base_uri": "https://localhost:8080/"
        },
        "id": "ZFFjdOh2nK6X",
        "outputId": "e8d3e4f8-9cd2-4b3e-f302-ea92239ff584"
      },
      "outputs": [
        {
          "output_type": "stream",
          "name": "stdout",
          "text": [
            "20.2\n"
          ]
        }
      ],
      "source": [
        "list1 = [12, 16, 20, 20, 12, 30, 25, 23, 24, 20]\n",
        "mean = sum(list1)/len(list1)\n",
        "print(mean)"
      ]
    },
    {
      "cell_type": "markdown",
      "source": [
        "MEDIAN\n",
        "\n",
        "The middle value among all the values in sorted order.\n",
        "\n",
        "There are two different ways of calculating the median value:\n",
        "\n",
        "-When the total number of values is even:\n",
        "\n",
        "Median = [(n/2)+((n/2)+1)/2]\n",
        "\n",
        "-When the total number of values is odd:\n",
        "\n",
        "Median = [n/2]"
      ],
      "metadata": {
        "id": "fP8anMlbo6ai"
      }
    },
    {
      "cell_type": "code",
      "source": [
        "list1 = [12, 16, 20, 20, 12, 30, 25, 23, 24, 20]\n",
        "list1.sort()\n",
        "\n",
        "if len(list1) % 2 == 0:\n",
        "  val1 = list1[len(list1)//2]\n",
        "  val2 = list1[len(list1)//2 - 1]\n",
        "  median = (val1 + val2)/2\n",
        "else:\n",
        "  median = list1[len(list1)//2]\n",
        "\n",
        "print(median)"
      ],
      "metadata": {
        "colab": {
          "base_uri": "https://localhost:8080/"
        },
        "id": "IrlvaboWo47w",
        "outputId": "d3070a7c-a53d-4ecf-e907-9f3b9de7bccc"
      },
      "execution_count": 2,
      "outputs": [
        {
          "output_type": "stream",
          "name": "stdout",
          "text": [
            "20.0\n"
          ]
        }
      ]
    },
    {
      "cell_type": "markdown",
      "source": [
        "MODE\n",
        "\n",
        "The most frequently occuring value among all the values."
      ],
      "metadata": {
        "id": "hdB8tSdKtNFQ"
      }
    },
    {
      "cell_type": "code",
      "source": [
        "list1 = [12, 16, 20, 20, 12, 30, 25, 23, 24, 20]\n",
        "freq = {}\n",
        "for i in list1:\n",
        "  freq.setdefault(i, 0)\n",
        "  freq[i]+=1\n",
        "\n",
        "freqNum = max(freq.values())\n",
        "for i, j in freq.items():\n",
        "  if j == freqNum:\n",
        "    mode = i\n",
        "\n",
        "print(mode)"
      ],
      "metadata": {
        "colab": {
          "base_uri": "https://localhost:8080/"
        },
        "id": "BM1yLilPtK56",
        "outputId": "e5862e11-14c8-4d4f-905e-6e8d3ad5cb79"
      },
      "execution_count": 3,
      "outputs": [
        {
          "output_type": "stream",
          "name": "stdout",
          "text": [
            "20\n"
          ]
        }
      ]
    }
  ]
}